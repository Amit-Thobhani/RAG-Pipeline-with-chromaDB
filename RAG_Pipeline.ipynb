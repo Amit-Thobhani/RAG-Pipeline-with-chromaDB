{
  "cells": [
    {
      "cell_type": "code",
      "execution_count": 1,
      "metadata": {
        "id": "-X46TgMFPs7r"
      },
      "outputs": [],
      "source": [
        "%%capture\n",
        "!pip install transformers accelerate huggingface-hub\n",
        "!pip install pypdf chromadb\n",
        "!pip install langchain langchain_community"
      ]
    },
    {
      "cell_type": "code",
      "execution_count": 2,
      "metadata": {
        "id": "nvuOyYxhPLtK"
      },
      "outputs": [],
      "source": [
        "from populate_database import update_database\n",
        "from process_query import load_config, run_rag_pipeline"
      ]
    },
    {
      "cell_type": "code",
      "execution_count": 3,
      "metadata": {
        "colab": {
          "base_uri": "https://localhost:8080/",
          "height": 777,
          "referenced_widgets": [
            "1e795b8d8355471aa54efdf296901b23",
            "55a6f3f3a060420c98fd832145530eb8",
            "9296b85ad9a543ab9724b0febaf03c17",
            "f21842bfc1f84385bb53f389699fc536",
            "9abb4d437cbe421e9013a1e114fb3093",
            "62c0b66837fe413a834119b2e795dd8c",
            "83a08e8bbee54382a487eec2decb1f2b",
            "96b3f68fe21343c3a326e40d11bbbe76",
            "0976545ef9244bb8b98b0418abda076d",
            "c34a9dd3db3d476fb6a76fab35ff2244",
            "bb7d1e2cb8d84bcbabcd825ccb6e007f",
            "af32caa156e24a2bac650c48a0753f3d",
            "4d110cef20ba4c4984daf0c7ae06a642",
            "3a8a27cfe0c2414b866c2e2285958472",
            "a65606476e72430b9ac3faaeae5f0775",
            "27d02c5cf51c4b30a061a433eb1eaf82",
            "31bc669583fb43469924e37af91f90de",
            "5faa246a2ec3475496de444f413640d3",
            "4ddf3d39dc2d4660827597550f03450c",
            "71fc8eab69ff479aa24e729412ed352a",
            "d75a15787eeb4a10a6d8423383633f7c",
            "7380310407e54398a30a9e8a09c102ca",
            "f54e8b81042c441c9911e0f76436628f",
            "9b3b17ceaf124c2f8926289d4352c276",
            "7214f874c8bb44f4a762ac4d62ea1509",
            "17fda3ddfc604b5ea10141dc14ef0c59",
            "02c7257ed9ff4258903dc0e63a03ec23",
            "f7f4d9b9e0794f73a25c7b3d1f600f98",
            "bb6f21c0a7f04e58a73139f49d87d3af",
            "8d32b9b3dee14bd28ffd672899f79ce0",
            "de9e5d2337ef481aabe69da0e5b5442f",
            "c76b52a1b74f44a19ad1782315d051fa",
            "5a23af5412774a768e819f7818a7790c",
            "953b2b223e1143ac850efc6ac58bcc37",
            "d956a6b8c7284b0f8abae44321e7954f",
            "af51a8ad96a943be800284e4f511c6d7",
            "6b4053047a354de587a1979f92b278a6",
            "d2e3b82cca384adca14512f9ea5f9dcf",
            "5177479d82a34a3b8271df234692a3b7",
            "c2c93f6a49af4ac3bfa959a4431e2924",
            "ca1bb9491d864b8fa102b7d6ed882a24",
            "b0636690e5e24b13a0bc98047e179b5e",
            "94e533780d934838aef9fa896f7d72da",
            "43efbab0928b4c58ac42b828170b2f9c",
            "78f5d75d7e734dfabaf844e907bc1a99",
            "5fe7b4e519a5491a8cd2859f724e2eb2",
            "273d44135fe94a80bb3547a0122d6169",
            "92c13bd7da50414fb938c17cd752f285",
            "cdd52aac25234208b5a8144aa192017d",
            "e8622ba130cb456b865b2bfde21ceadb",
            "094ef06c9af5403eadab09a689b45f04",
            "660b3b213eca4807baa8eacf0606a0bc",
            "9c335f460f51499b864395e0324d87ad",
            "43790df60e014901b79aede797197108",
            "6e819434c3bd49bfb89cd91c8d573622",
            "60d29229164a4774ae2302177f066a18",
            "73666185f68242c4997c7d33927cf70c",
            "5531c32132b04dc58e1d6f6dc971017e",
            "71674579ca6e4d7f8ecedcd5ef25bb0b",
            "85abbe83a0d94100a13b80b6c2f68697",
            "60b34df8f611454c97433a7fbc6b39ff",
            "3afd12dc345a4709a418c6bc0c3225c9",
            "a9d35c868bc24fa3913c7d1c46e819ad",
            "efaa28460ee84431aead1a4b120c8466",
            "9b8fea21c43646c3a402b370cd9c0323",
            "7655b96abb5c4c2e8648e03605fe8d78",
            "4e4aba31d17c46728f77fb188a17ddb3",
            "fceb66d09e234b7d9dde2a6d9cc385e6",
            "33981a9c64c844719977df7213f3d629",
            "4a76ba4ba7c84e96b3991797f2e8d892",
            "72b2692f319d4613859595a9ee7de5d1",
            "58bee8e5b4b043348a8e5fd5e878fcfe",
            "de9e3b8ad4a444d8b352b822c8c884c2",
            "efd0fcdb218245309908a6e92e015af5",
            "4825f0f994a548c391058a278c0ea94d",
            "149816a7125c4da29bacfe57671accaa",
            "4dbcb6fe10d84ebda81ac6c50ed1390c",
            "2c9a5fbd69c846fdb3c2d95ddca8760c",
            "9f2048ed4a8346d588bfbeb71c6fa529",
            "f3ce2821f8024466a1989599c20d2223",
            "c9399c7fd4d8491ea7b6bf0f516a6785",
            "4ffa34eb25784c22a15b42e3699f513e",
            "df1784f097e74cde870b84bf85467d6f",
            "40c38cf52da145639b6e96249bc1e441",
            "968cc8664d19409498752212f64627a0",
            "59de6a9d7c72476884fcc5b0953d00e9",
            "680c8986d136447d9591621e6c02fd4a",
            "93faca6ce3264f76a1c4cc0dc2b7c39f",
            "c59a759a98384371a157e03b60d7e09d",
            "e4e2c174ab6d4c34b0840d3d796d8b47",
            "8c71a15a217c44f2a1be95a259f4b48f",
            "b7cf8d974b2a4a858ed310cede2d24db",
            "c913a79f244b48b0a7ac9f0ebeaaf098",
            "8d9bb3813e994db9bcae08887d2332af",
            "481db74606f44e17928a847997faf371",
            "9e0f145fc240494a9bba6b479f2a4c20",
            "392f32f017174297841214c4b66cfe78",
            "9385e3bd0a8346168dbd64ba176fcb19",
            "c74e161ea9cf4c3199fc2bb25993b849",
            "728ba1bea6cb4b47ad27d701c517b3af",
            "baf7d8b8588041e2ae4d4e0b3174e185",
            "3b89c73b27fa47c4bec511447d176f03",
            "18380b77f3844176ac497a89d04be1ec",
            "3fdcb88ed051419ca65da18970035b08",
            "e3d14d9bfbb3488a849b26bc7d1c62b6",
            "765d23b0264a4ad18000f6d4062f2fa9",
            "ea4184ed52404821943a3d60ee88a638",
            "948d6c037dd144308312484f7f7a0fe7",
            "1fe07b1207d544ac81713b638e93e58f",
            "7f8df83c8a4e456e952e3b4d4c191e91",
            "d7801a48aa94460194723de1cf67cbed",
            "fee8b9a752294f89bdcd723c0e1dafd0",
            "bcf45f48ad6f4ed6bb4dd834b9e5393c",
            "2a89e4e70f2c4e3fbda07074eb3664e9",
            "501f70fe6cf245b5bc41f72de9f1207e",
            "9dccd476c8ea4de582a44cb60b781f52",
            "3731a8acd75a4ddfa12fa92a6a131371",
            "768fb0e77a534e29bffd84f18cffd3cd",
            "7c11226ba625471d9a720b9dc3862223",
            "eae8faee8e39432ab3ebd38ada1ec222",
            "ba3d62ad8f1243d580254c07d8709f88",
            "253ad3d4fdd64798a13e646442c5ec58",
            "94d47d87905a4b459ac4e3dafd718dd1",
            "9f861457ea9f43489f7c6efb75e2e54f",
            "ff8108374d8c44ec8b1957b2cb13038b",
            "169a302af3214a1fb46305eb15ea8775",
            "db0bb39ee0cf457880cd48599550b3a9",
            "ed126fe576714a82b6defbe27dc74e44",
            "e157a8cf5e6c49f1a14be8bd7d3d0cb3",
            "6e740178478943e0bf4847bd2eb41f6c",
            "4204c22513f54978957ccef84f719da5",
            "043a1ae224334c68afae797b28a778b7",
            "9e94d153641b4d8598314f73b18282c6",
            "612daf76539842788ec5659fb7c4695f",
            "011538692ad84321a53ac694657beda9",
            "7c8a6f2cef2a4c0090c3aad3f8ef4a97",
            "5b801ea1515345bab19c915c14a10f07",
            "a12f4866a51841a1b8c5af9131baaa07",
            "6f424bcc920c4e718014244f4c142de2",
            "f285dda2ce1d42a384a407a9bd6d402e",
            "2f11b8674a794da1a94245a5b58a19fc",
            "da172921bc4e47d2a416983028c14f36",
            "0fef5e2ff19e4f6990592b6e6acc0e4d",
            "e5af2254b40b4e88bca72244b551cb63",
            "78b292256ab043578ce8b985fce5a7ac",
            "32219b7e15c441f3967ea0dc31bbb3a3",
            "fd948aecb0404ddc801bf0716011bb94",
            "90bddfad1bae45d9a2921efdae046894",
            "77d9c2b33362445f9e2299d10115baf9",
            "a0ca145b9f93411fad8629a746c280b8",
            "eab2bcc3769140988a3533e4a7a8d857",
            "31eb5091e27143ff830d9a792c674e13",
            "50b19d311d8f477abff85395d962c4f2",
            "94b08d1aee7f49d2938927472ce321d7",
            "342fab4da8f34a7badce3bad86003f2e",
            "cdbb680e6fb4485cbeb6cc0ae2bced23",
            "bd7836eba1ab41438e27b084f8b746a9",
            "0d8659ddbe324702a64996cf02213bdd",
            "cb7fe155f95843dab66832583a2a5090",
            "4b287bc8acfa43579e253610626aae88",
            "172396f9534b49bf8fb4e51deab80b3c",
            "90c4bc4aaadc4a7daec1d5b3066e383e",
            "05c877b5c7b34a0faf3f08eab7a20e72",
            "8399c73db5654bed998cf5f1bc14f8f3",
            "763bd073a9834e1199ce9e16e59e8622",
            "01108efd571e487aab29e181793c6652",
            "d6f080e9e1ff44d59721e3a16a353b13",
            "eafa5de9935248eea37b504a857b4732",
            "8ccca531468b482fb3850a4538d57c44",
            "18a4b7c4f4054df9bf586d0dcd0e9aa2",
            "170e6d33983744059ab6ff053afcb2be",
            "435012c8202749b689ad0263348592a5",
            "4ce3fec3d9d24d508980ffcc618664e1",
            "7b18c427015b49068b73c3a185ff6919",
            "b5b08003d35c4b0790d3f9815ca4d6b4",
            "2f4592abc443482b87f62b34cefadf9c",
            "7297ea09b1e94ece9919c3a63fc25ad3",
            "1e546f8efee04cdc928c6d660d4280f2",
            "673b0469f51b4ac88e5147b5acc7a628",
            "8ce9461afe404c619f5deb59aaf846e3",
            "b4d36011f4c54bee81490cda7e5f7fd8",
            "3e1e1834089749eb93424c0fb26c93a6",
            "30fc77e4b7e447dc969cfb9c30e4e7c1",
            "b601529de32343c0aa78a1deca6c9d16",
            "67eb7dc52c2747be9539a9ce37e69ef0",
            "03b290a0e5be4c108c56630f73734879",
            "52270839f9e548c786d0aae82ca2ed20",
            "bf3508284c0e4933a6d99711c7551c49",
            "cb39f65a605a4de699e272ba0b01aca7",
            "3c13e24a953f46adbe96df184cd5310b",
            "69511d37067241ff8ef810751716a604",
            "c9b9304b34f543b2b862b6b40626b2bf",
            "585797c21ad340a8bcca6c70096d7485",
            "ebf64235f6b54e0a882f20e36cc3bd93",
            "f605be6defe9431fa8a95a218ce1835b",
            "90bd099f8c334fa092e791b043501335",
            "8eb863539ac0469e81d09a77987a0271",
            "c0b3e144b020443a9dcae2b095265541",
            "8fc97675291e44e4b3ea6064401dfb7e",
            "feb4179ce94d499f86b6ed8597003afd",
            "fffbee6ff9394e4ca5812e29e1f1cd17",
            "269c09ffe400459f8c27e4f8eda83dbf",
            "679e0f8cf25d439b82450e5362159eb0",
            "96a956e59bd84670ba6f5c8534207b1f",
            "862001639c644d2589a0d5ae3a34d1ef",
            "c5fa9d44eddb444884a97f9c96e46caa",
            "c770fa667eeb454989878a0bca6898af",
            "ae642db90ddc4093b05d3c031863a981",
            "9c2ea5a4111943699da8af9c51de4ef5",
            "673fbcadc8aa4e40ab3a3cd72fb49962",
            "4f5fc3ed3eb34f639e8e256c3fee73d8",
            "81871429ce81403aa1b0cb70a6faa223",
            "dd4baece240d4115ab610664d02292ed",
            "cea6a31ed8fb4503bbd667e720f6f7df",
            "ca93208601f04c5aa4e7393e9288ad59",
            "b2e60239250c4b53ba71eab4034c4775",
            "73499ff0a6ff462588d06edce5b7eb4f",
            "5a82f369707e481da1402ae6fe2f0a8c",
            "084f159c8f30417b8b64734c3ea5ff48",
            "d4c354027a114e91a4cd09d789573a1c",
            "d2c391f217104861addbed6030055dc0",
            "c67f450a809d47f5860ea7acac59d752",
            "86a426bf3b1c4be3b14d8ba6a0ac1dff",
            "57b5c72b6b5041e6a78f5cd4033a5818",
            "01ad3e1486cc4dcba7042d6702b65e56",
            "2a40c1b1a7064c6d873c46d18fd6c641",
            "0725b12ec2134675a68584066ef999af",
            "a1ca7883496243db8c71e9b6942553ef",
            "726e7ad7ce444798889faf578f6ba109",
            "40ea7323e44b4a00b7d0ac8b25080d79",
            "881bd539656f42298916832ed6285362",
            "e6adc45771f34939bd9dc83dd1eaa058",
            "8f845502481c4f00b63f2e704ad833b2",
            "671632053c7e4f5287e491d53d735d2d",
            "e3cbcf4e4d3b4d178b02e74bae701be4",
            "de5e8bdfa6b047fab35da8db75cb3776",
            "9a8a2344bd7040869e0c0f77a5b2e130",
            "3920d2d34faf435caff3491fafadd4e9",
            "feb369ef5b8f492589ac41e434486eeb",
            "b1b6e45fbeee460287623bd3c78c2c26",
            "e1d74d3f301447e6a94ec3a47168a478",
            "77293825ffee4f04bf78effbfb83b708"
          ]
        },
        "id": "mhK9Pmy7Pn12",
        "outputId": "d5982468-c890-4444-b245-9690a6dda8e4"
      },
      "outputs": [
        {
          "data": {
            "application/vnd.jupyter.widget-view+json": {
              "model_id": "1e795b8d8355471aa54efdf296901b23",
              "version_major": 2,
              "version_minor": 0
            },
            "text/plain": [
              "modules.json:   0%|          | 0.00/349 [00:00<?, ?B/s]"
            ]
          },
          "metadata": {},
          "output_type": "display_data"
        },
        {
          "data": {
            "application/vnd.jupyter.widget-view+json": {
              "model_id": "af32caa156e24a2bac650c48a0753f3d",
              "version_major": 2,
              "version_minor": 0
            },
            "text/plain": [
              "config_sentence_transformers.json:   0%|          | 0.00/116 [00:00<?, ?B/s]"
            ]
          },
          "metadata": {},
          "output_type": "display_data"
        },
        {
          "data": {
            "application/vnd.jupyter.widget-view+json": {
              "model_id": "f54e8b81042c441c9911e0f76436628f",
              "version_major": 2,
              "version_minor": 0
            },
            "text/plain": [
              "README.md:   0%|          | 0.00/10.5k [00:00<?, ?B/s]"
            ]
          },
          "metadata": {},
          "output_type": "display_data"
        },
        {
          "data": {
            "application/vnd.jupyter.widget-view+json": {
              "model_id": "953b2b223e1143ac850efc6ac58bcc37",
              "version_major": 2,
              "version_minor": 0
            },
            "text/plain": [
              "sentence_bert_config.json:   0%|          | 0.00/53.0 [00:00<?, ?B/s]"
            ]
          },
          "metadata": {},
          "output_type": "display_data"
        },
        {
          "data": {
            "application/vnd.jupyter.widget-view+json": {
              "model_id": "78f5d75d7e734dfabaf844e907bc1a99",
              "version_major": 2,
              "version_minor": 0
            },
            "text/plain": [
              "config.json:   0%|          | 0.00/612 [00:00<?, ?B/s]"
            ]
          },
          "metadata": {},
          "output_type": "display_data"
        },
        {
          "name": "stderr",
          "output_type": "stream",
          "text": [
            "Xet Storage is enabled for this repo, but the 'hf_xet' package is not installed. Falling back to regular HTTP download. For better performance, install the package with: `pip install huggingface_hub[hf_xet]` or `pip install hf_xet`\n",
            "WARNING:huggingface_hub.file_download:Xet Storage is enabled for this repo, but the 'hf_xet' package is not installed. Falling back to regular HTTP download. For better performance, install the package with: `pip install huggingface_hub[hf_xet]` or `pip install hf_xet`\n"
          ]
        },
        {
          "data": {
            "application/vnd.jupyter.widget-view+json": {
              "model_id": "60d29229164a4774ae2302177f066a18",
              "version_major": 2,
              "version_minor": 0
            },
            "text/plain": [
              "model.safetensors:   0%|          | 0.00/90.9M [00:00<?, ?B/s]"
            ]
          },
          "metadata": {},
          "output_type": "display_data"
        },
        {
          "data": {
            "application/vnd.jupyter.widget-view+json": {
              "model_id": "4e4aba31d17c46728f77fb188a17ddb3",
              "version_major": 2,
              "version_minor": 0
            },
            "text/plain": [
              "tokenizer_config.json:   0%|          | 0.00/350 [00:00<?, ?B/s]"
            ]
          },
          "metadata": {},
          "output_type": "display_data"
        },
        {
          "data": {
            "application/vnd.jupyter.widget-view+json": {
              "model_id": "2c9a5fbd69c846fdb3c2d95ddca8760c",
              "version_major": 2,
              "version_minor": 0
            },
            "text/plain": [
              "vocab.txt:   0%|          | 0.00/232k [00:00<?, ?B/s]"
            ]
          },
          "metadata": {},
          "output_type": "display_data"
        },
        {
          "data": {
            "application/vnd.jupyter.widget-view+json": {
              "model_id": "c59a759a98384371a157e03b60d7e09d",
              "version_major": 2,
              "version_minor": 0
            },
            "text/plain": [
              "tokenizer.json:   0%|          | 0.00/466k [00:00<?, ?B/s]"
            ]
          },
          "metadata": {},
          "output_type": "display_data"
        },
        {
          "data": {
            "application/vnd.jupyter.widget-view+json": {
              "model_id": "728ba1bea6cb4b47ad27d701c517b3af",
              "version_major": 2,
              "version_minor": 0
            },
            "text/plain": [
              "special_tokens_map.json:   0%|          | 0.00/112 [00:00<?, ?B/s]"
            ]
          },
          "metadata": {},
          "output_type": "display_data"
        },
        {
          "data": {
            "application/vnd.jupyter.widget-view+json": {
              "model_id": "d7801a48aa94460194723de1cf67cbed",
              "version_major": 2,
              "version_minor": 0
            },
            "text/plain": [
              "config.json:   0%|          | 0.00/190 [00:00<?, ?B/s]"
            ]
          },
          "metadata": {},
          "output_type": "display_data"
        },
        {
          "data": {
            "application/vnd.jupyter.widget-view+json": {
              "model_id": "253ad3d4fdd64798a13e646442c5ec58",
              "version_major": 2,
              "version_minor": 0
            },
            "text/plain": [
              "tokenizer_config.json:   0%|          | 0.00/2.54k [00:00<?, ?B/s]"
            ]
          },
          "metadata": {},
          "output_type": "display_data"
        },
        {
          "data": {
            "application/vnd.jupyter.widget-view+json": {
              "model_id": "9e94d153641b4d8598314f73b18282c6",
              "version_major": 2,
              "version_minor": 0
            },
            "text/plain": [
              "spiece.model:   0%|          | 0.00/792k [00:00<?, ?B/s]"
            ]
          },
          "metadata": {},
          "output_type": "display_data"
        },
        {
          "data": {
            "application/vnd.jupyter.widget-view+json": {
              "model_id": "e5af2254b40b4e88bca72244b551cb63",
              "version_major": 2,
              "version_minor": 0
            },
            "text/plain": [
              "tokenizer.json:   0%|          | 0.00/2.42M [00:00<?, ?B/s]"
            ]
          },
          "metadata": {},
          "output_type": "display_data"
        },
        {
          "data": {
            "application/vnd.jupyter.widget-view+json": {
              "model_id": "342fab4da8f34a7badce3bad86003f2e",
              "version_major": 2,
              "version_minor": 0
            },
            "text/plain": [
              "special_tokens_map.json:   0%|          | 0.00/2.20k [00:00<?, ?B/s]"
            ]
          },
          "metadata": {},
          "output_type": "display_data"
        },
        {
          "data": {
            "application/vnd.jupyter.widget-view+json": {
              "model_id": "01108efd571e487aab29e181793c6652",
              "version_major": 2,
              "version_minor": 0
            },
            "text/plain": [
              "config.json:   0%|          | 0.00/1.44k [00:00<?, ?B/s]"
            ]
          },
          "metadata": {},
          "output_type": "display_data"
        },
        {
          "data": {
            "application/vnd.jupyter.widget-view+json": {
              "model_id": "7297ea09b1e94ece9919c3a63fc25ad3",
              "version_major": 2,
              "version_minor": 0
            },
            "text/plain": [
              "model.safetensors.index.json:   0%|          | 0.00/53.0k [00:00<?, ?B/s]"
            ]
          },
          "metadata": {},
          "output_type": "display_data"
        },
        {
          "data": {
            "application/vnd.jupyter.widget-view+json": {
              "model_id": "bf3508284c0e4933a6d99711c7551c49",
              "version_major": 2,
              "version_minor": 0
            },
            "text/plain": [
              "Fetching 2 files:   0%|          | 0/2 [00:00<?, ?it/s]"
            ]
          },
          "metadata": {},
          "output_type": "display_data"
        },
        {
          "data": {
            "application/vnd.jupyter.widget-view+json": {
              "model_id": "8fc97675291e44e4b3ea6064401dfb7e",
              "version_major": 2,
              "version_minor": 0
            },
            "text/plain": [
              "model-00001-of-00002.safetensors:   0%|          | 0.00/9.45G [00:00<?, ?B/s]"
            ]
          },
          "metadata": {},
          "output_type": "display_data"
        },
        {
          "data": {
            "application/vnd.jupyter.widget-view+json": {
              "model_id": "673fbcadc8aa4e40ab3a3cd72fb49962",
              "version_major": 2,
              "version_minor": 0
            },
            "text/plain": [
              "model-00002-of-00002.safetensors:   0%|          | 0.00/1.95G [00:00<?, ?B/s]"
            ]
          },
          "metadata": {},
          "output_type": "display_data"
        },
        {
          "data": {
            "application/vnd.jupyter.widget-view+json": {
              "model_id": "d2c391f217104861addbed6030055dc0",
              "version_major": 2,
              "version_minor": 0
            },
            "text/plain": [
              "Loading checkpoint shards:   0%|          | 0/2 [00:00<?, ?it/s]"
            ]
          },
          "metadata": {},
          "output_type": "display_data"
        },
        {
          "data": {
            "application/vnd.jupyter.widget-view+json": {
              "model_id": "e6adc45771f34939bd9dc83dd1eaa058",
              "version_major": 2,
              "version_minor": 0
            },
            "text/plain": [
              "generation_config.json:   0%|          | 0.00/147 [00:00<?, ?B/s]"
            ]
          },
          "metadata": {},
          "output_type": "display_data"
        }
      ],
      "source": [
        "config = load_config(device='cuda')"
      ]
    },
    {
      "cell_type": "code",
      "execution_count": 4,
      "metadata": {
        "colab": {
          "base_uri": "https://localhost:8080/"
        },
        "id": "RicPw_FkPzzp",
        "outputId": "b30bcadd-9dc9-47b0-923a-ce5a6a23dc12"
      },
      "outputs": [
        {
          "data": {
            "text/plain": [
              "dict_keys(['device', 'embeddings', 'tokenizer', 'model', 'db'])"
            ]
          },
          "execution_count": 4,
          "metadata": {},
          "output_type": "execute_result"
        }
      ],
      "source": [
        "config.keys()"
      ]
    },
    {
      "cell_type": "code",
      "execution_count": 5,
      "metadata": {
        "colab": {
          "base_uri": "https://localhost:8080/"
        },
        "id": "c1sT_uQZP2zO",
        "outputId": "3dbfecef-49b0-4dcc-ff34-733a412531e6"
      },
      "outputs": [
        {
          "name": "stdout",
          "output_type": "stream",
          "text": [
            "Total 341 document loaded.\n",
            "Docuument splits into 595.\n",
            "Number of existing documents in DB: 0\n",
            "Adding new documents: 595\n"
          ]
        }
      ],
      "source": [
        "update_database(config)"
      ]
    },
    {
      "cell_type": "code",
      "execution_count": 6,
      "metadata": {
        "colab": {
          "base_uri": "https://localhost:8080/",
          "height": 53
        },
        "id": "jr5IO5lVP86U",
        "outputId": "22638c58-f6ab-43cc-c36b-7bed0cd53770"
      },
      "outputs": [
        {
          "data": {
            "application/vnd.google.colaboratory.intrinsic+json": {
              "type": "string"
            },
            "text/plain": [
              "'Variable names may contain upper-case and lowercase letters (A\u2013Z, a\u2013z), digits (0\u20139), and underscores (_), but they cannot begin with a digit'"
            ]
          },
          "execution_count": 6,
          "metadata": {},
          "output_type": "execute_result"
        }
      ],
      "source": [
        "query_text = \"Rules for defining python variables\"\n",
        "run_rag_pipeline(query_text, config)"
      ]
    },
    {
      "cell_type": "code",
      "execution_count": 7,
      "metadata": {
        "colab": {
          "base_uri": "https://localhost:8080/",
          "height": 35
        },
        "id": "oY-SMLmOP_em",
        "outputId": "d24440f5-7151-42d6-cd56-2daca118a6b9"
      },
      "outputs": [
        {
          "data": {
            "application/vnd.google.colaboratory.intrinsic+json": {
              "type": "string"
            },
            "text/plain": [
              "'$1,000'"
            ]
          },
          "execution_count": 7,
          "metadata": {},
          "output_type": "execute_result"
        }
      ],
      "source": [
        "query_text = \"How much money player have at the start in monopoly\"\n",
        "run_rag_pipeline(query_text, config)"
      ]
    }
  ],
  "metadata": {
    "accelerator": "GPU",
    "colab": {
      "gpuType": "T4",
      "provenance": []
    },
    "kernelspec": {
      "display_name": "Python 3 (ipykernel)",
      "language": "python",
      "name": "python3"
    },
    "language_info": {
      "codemirror_mode": {
        "name": "ipython",
        "version": 3
      },
      "file_extension": ".py",
      "mimetype": "text/x-python",
      "name": "python",
      "nbconvert_exporter": "python",
      "pygments_lexer": "ipython3",
      "version": "3.12.9"
    }
  },
  "nbformat": 4,
  "nbformat_minor": 4
}