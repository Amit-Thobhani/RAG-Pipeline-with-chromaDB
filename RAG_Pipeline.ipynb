{
  "nbformat": 4,
  "nbformat_minor": 0,
  "metadata": {
    "colab": {
      "provenance": [],
      "gpuType": "T4"
    },
    "kernelspec": {
      "name": "python3",
      "display_name": "Python 3"
    },
    "language_info": {
      "name": "python"
    },
    "accelerator": "GPU"
  },
  "cells": [
    {
      "cell_type": "code",
      "source": [
        "%%capture\n",
        "!pip install transformers accelerate huggingface-hub\n",
        "!pip install pypdf chromadb\n",
        "!pip install langchain langchain_community"
      ],
      "metadata": {
        "id": "-X46TgMFPs7r"
      },
      "execution_count": 1,
      "outputs": []
    },
    {
      "cell_type": "code",
      "execution_count": 4,
      "metadata": {
        "id": "nvuOyYxhPLtK"
      },
      "outputs": [],
      "source": [
        "import sys\n",
        "sys.path.append('./src')\n",
        "from populate_database import update_database\n",
        "from process_query import load_config, run_rag_pipeline"
      ]
    },
    {
      "cell_type": "code",
      "source": [
        "config = load_config(device='cuda')"
      ],
      "metadata": {
        "colab": {
          "base_uri": "https://localhost:8080/",
          "height": 777,
          "referenced_widgets": [
            "6241d4c4300046a9949afa3a0fd1d19b",
            "9d1a9f4ab0604f9f8ba696b52e884d47",
            "88e2d3e583ae448e8c036f54d46c3f71",
            "14986a371b5243348f366dd2c47c4c23",
            "ef8fce2d37c2453facab3f7ace114295",
            "301004d29e59408b9a6eee5bd6152f6e",
            "17a93727ff4a4a77a44509b0d8677df1",
            "1982cbaffd904ffaaccd6fcdfda57337",
            "5b66c98a45dd47a2b056bbd7df4bc744",
            "031bda3ad22a429f91165a814da3acc0",
            "9bd794725ae049b68b1f35b4478fc0bb",
            "62cb60bc37f349bcb04d6d0e75b80e68",
            "47d62b15325e4bbfaf8e1c03b28a4f67",
            "7ffd8cfb857b4d00b7d5bc97e9ab807f",
            "4804931de9c34b3b95f9bb5fe4f6ad77",
            "c1dd5387e17b4588bf07a51061901e04",
            "7adf7fac61734c3aae51562ad11e1362",
            "6460810c58314c50b9928f75fc384112",
            "b070c2d75b4046a9bcf04234464b789a",
            "343aad26991247baae9821d733a857ec",
            "3bce8f56e67548e28ddd9307caddf296",
            "fb66882ab78f4e1facea63190436aaa8",
            "cb7795ea32e9475ba182e9ac999dadbc",
            "f09b288c18f343b7a52083f1802dc588",
            "7eed24fa005b4ce984ec7c82e7b623b2",
            "ce899cfc16cb4f199bd196b6a6e3b679",
            "ed2f55334b12488ebabeba909d5b0db2",
            "a8ee2d2722804741a6d32381aa000332",
            "7935266163b34f1fbd1cd163119ce316",
            "f58cf25d49a441629dd85131df9c17c8",
            "81e60cff15dc4f2aad78705e585df0ea",
            "21173557df164a73b5ac500e8bfbe7a8",
            "9cf1d1219e6c4a829fe5126a66d71c3f",
            "3c082b9f8502425cb7edf3e52f2c3098",
            "e32a764803e44f6bbaef71923b5aeaa9",
            "926beda201fe4899b5616cf2f52616cc",
            "270b935e3e5446eeb09e4103644b0463",
            "50470042dbe04e218a5f756ee36befc5",
            "49554a9d0a7244d598bbd45f0b1c658e",
            "08650b41187b4f5e95026ca3f62b37f1",
            "d6887a21872242dc9ded6d91f8ececbc",
            "020182bcc2334434b83749ce7916e0ca",
            "3ae9a3ce62ba48c0a27686f2435608c5",
            "fe0f28d261b24016ba280b954407dce2",
            "20b821b3f8cd4a22ac675e6dca0c5cc0",
            "fe186f8d0077412a9b9fe376e03d53d7",
            "c93927f2bece48d4adb4a06f952ec0de",
            "cc389ba49ce248babbcac98ddb8bf879",
            "ecf30cb3d8dc4fc28ad8255b22db27a4",
            "4ae26f7700564df3821cb024190759d3",
            "5f36897b8d0f4c9c90a0005da2d73e52",
            "82223fdb5a4b46be93bded5765d9d0cf",
            "a1884485352d49038418a77d920f5dfd",
            "d86eefa8c3034652ae0d9a1da1881a6a",
            "f7024000a9c34f69aa31bd2a75467470",
            "8eddb873c2694c168b7137e37550b2d8",
            "0d2b08ae97cf490cb4429d87e7d0fcde",
            "bd430717e931487a8358d6357815b8a2",
            "44d84ca9a8cb4d4ba72adaeaeb455e82",
            "6723f26eb7c84f428a00c27f88a661cb",
            "c216142b38f448089924603051dcec9d",
            "cd7e95bbd25444faa46077e5d27cc2cd",
            "52784196c1514451965455fc9ece5b40",
            "2ff9d8e93d8240e882a4210153f83d7f",
            "c973f23162114a83b9f139c4cdcdf77f",
            "477c6f8bf5894d80a6386b15f0c2d812",
            "a35493d4b3c24a36ba795604be1e0077",
            "e20db66bd6e144c0a6d6bf363ac65cf1",
            "8d728872d62c4f71a46c9384b88b22d9",
            "54c986e75ccf41d6acc03fdbc901b83e",
            "228b34c070ea4e7baf4a72a85a7d807c",
            "38de5c178f71484199b61ee344d78618",
            "5421ea06954a479cab14150f552bf2f6",
            "2ac8f050b7bd463382fec2937467f003",
            "797cb76cdbd14a81b4f72b82bdc75079",
            "297c114764da4ff3ae1bb10d42e9b47a",
            "8ae37030eb424904b6f69ecffc13b4c2",
            "b1ad7df4635a466498a2e24d7627d20b",
            "5df3ace262d246f8bc691b8801e1ecf0",
            "4f9bda4f27e44d97992cc5f8d5c75787",
            "a4ada663e1d0474187fd50192f1f857c",
            "38a9a4ac530f4f46bce6f114ae3f213b",
            "9a19cb02ba704bf3ad75fdd39cf56410",
            "cb2f48a7a908435d81db2e5c8a88fc1b",
            "239ad2f941bd480ca915834a1c53827c",
            "89bdba85e12b495ab087e4944ebafbb3",
            "6adf75e112904639aaae981144873216",
            "405b02477ed1427daf14a8f1d3b6a67d",
            "7a2facc0aaea49eeac31e89a660f4c9a",
            "bff4e36de7764fb4b16368f58a76efdb",
            "3efb0fc55a4947b0a2ace8ff3900424a",
            "02fa6d19fe2149e8b1640d1f3452c74e",
            "58955cff04304f6896cab128f80d7b4f",
            "fb5b1693ca064f40a01736ffda558f2a",
            "0172cf2528bc48439e54311f14990b8d",
            "0da7769329b24c34b50b54dbb69182d7",
            "1ead47883eac4d7db4304f33a82e4ab4",
            "54cce97440d94aafb2e8e202541d6a27",
            "87e28d824ebc4c979ef0bc1d581edc2e",
            "d2462fd5843d4fda898aa87beddfa012",
            "3bf877873ccd4f6b9d3b43cb195feb27",
            "3c64cd8bd75e4659b4d76cc2e9ccb80f",
            "073f2e5fc82043dfa01246136ebb0945",
            "7979a7dc631a47cc8f290bb3a9499484",
            "bcd406e3049c48d5a642a4a88ce7cad4",
            "c2dd54f91b3947f18bf27c44a8d01fed",
            "64ce9a65afc94af495c5183dd66ada85",
            "3abfa960d3c54675ab649e17b1f76c4e",
            "cc2a9e74c3004ec9b5e7f33a55764db5",
            "c41b3231e636452787a7dc19cb850c24",
            "026512b3f8674795bcfd24cc3f7bc07e",
            "368fc033e7a649b9896a5242bae5842a",
            "c82ec75773e14870998172ddcd4be495",
            "97f15193f39f4eb0a1790139a290e5be",
            "e092519a0c4340b2bb4e7423528b39da",
            "2dbe16eaa533415d889cd306121213db",
            "35e291f3cea949cda5a577be46e35fb5",
            "bd802c1b809e493cb304a0ee46819a96",
            "f34586e9c4fd4820be00cbb3d567154c",
            "2e47d8b1c9e845bfaa68660bf2dd8b0e",
            "87580275807d4f70a83cb8b873d92363",
            "0515f447c3f343a48cbc7579f9398f9d",
            "f96f07014e144f2d85b11af66f96d446",
            "9d7427c4bbee4c68908a6afc7b50b573",
            "d5aa2aa49ef24a9081c1c46c98e05d16",
            "746e6676bc8c43288d1b41f834c57857",
            "5af44853b7d74410a84005bdf53aad6c",
            "43d890df8afa435f8fe4c31d85907c6e",
            "fb89a270cfba44f293d2b1efa471c738",
            "35a50df9dfcb4adfa0a11ce459236c05",
            "7a620a8c14604d05b6dd6d8e9618549f",
            "f00b8e7fbbaf40978d568bec85a7e365",
            "75936c168fc2441581715800cabf4395",
            "4abf5d458f464c21bdcea866c0b09728",
            "1d791fad66a6489d94613285f08e64cc",
            "efde21f3b3cf4c8fb975175f35fb4516",
            "e6a5be0a9e734465acaf258225fd6fb8",
            "e3c7da54aa3448548dc65908137c72c1",
            "668e243e6b774b34a49871ed70505da3",
            "74e6e9380a754db6ad38836125465c1f",
            "8438ce7effa2495abadae4086ec18a32",
            "f0618cf51c0348f581957a6a7a567084",
            "80dcb2a7b2b14549a531251ba84ba70a",
            "5b5a05200e6847d383e0a8a004be4f9e",
            "daf0e1c4d97e4884a41bd1c3c2590c58",
            "cbb072ee80614d5da2b00e8f465a307b",
            "2887e66af7c6466d8f63476756bd6e6b",
            "d42d8cb1fb184cd3bbe5e34dc7c9f098",
            "d391a36fb4f846df81dcb6ddfe4ab926",
            "a71732c4447543f194a00e57f1ff029d",
            "d30031424df4435e9928e731c02cd7d7",
            "f8d93d8a8da44a99bf57caaf624c7c05",
            "95baa9156aae4380ad2f19197bf83caa",
            "47159060fea6484ead5211edd7f9b66a",
            "4308ce8a61b54d3cb2376b5558baa1bd",
            "c2a10d377f0d4802b217dd3082127591",
            "4242a58a8cc94783a059992a5013cf6c",
            "07f3a1f07ab0429385b5fd31d7bfc7fa",
            "c70a6e03e23c4d2bb079a3c3d3455e45",
            "b042672b0f96414992810288f47b7d9b",
            "8acf4b58eb03480ea4c4831216df22c0",
            "444220443dd14f67ad113b231a6b7634",
            "969976de8dfb460ca24cb5423e95b7f8",
            "777eaf1ff6f145e08655a5e0a99b771a",
            "139063239880441eabf0e3b7ebaad9cc",
            "0b90d51c6e05483b878dbc55c6d61d0c",
            "788170d6d568401e871917aba58fdee8",
            "d1bebae38179460989758bdf75e93a00",
            "99d977ad390747de8f5cea8fb6d91f0e",
            "2e07ef5c5c1b4449a0cdcd10c848fe30",
            "62b31ed577d7457fa510b5d1e91d3074",
            "73c32a137f83480ab2d8fcc2d106c8c8",
            "94a9a7494de64fdb8211294c77e992f6",
            "dfc52722dbd942a28868ee91297a7652",
            "ded9e44818d24bfc80f6949b1b7eda0f",
            "5a0b56a1ce2d4e838ffa784af5e74153",
            "22016522fe6b479aa0ca68c10bd71c54",
            "d1734df4558147b0aa0e5fd706ed17d5",
            "4bc90c2067a94bbbb1d866904d7332fa",
            "90e3b491bf484e60b5dd61782aeea5b1",
            "429c71e7f13e485d941749bb0186f8e7",
            "6b73d3a5bd504c8b9f47da923393e8f0",
            "67571125359f468ba08b5a1e80c78a78",
            "ef0fcdb689784c25a4e1341c9e908363",
            "fd96339ffc574375b88d28e41c457097",
            "45f824fea43647f78ffd58bfb03dd80c",
            "271f56cc33834fcfb14cc58b6f88575b",
            "856f3f40ec2249539d49e7860ef10219",
            "b735a6cb83b84755a5ff24b0c70f2172",
            "d7e89b4d845446e7b70059d6d72e9e71",
            "3734b76b293c4303b552c518a88b38f9",
            "952882f75ec34bd8a6de61daf9c40e64",
            "f5536f6675484200a2ac7d5b71e6b9d7",
            "4af43e82841943b587e9514a820b5e7c",
            "280dc701147b41f8ad792805e91ad6bb",
            "3acf776e3d054f328e2bd37b6c1caf3e",
            "368f8304a1c34774abdb6c433cacd061",
            "71b1bd6f82d943128ea3a4d976a45013",
            "2602e144968945d9b6ec373a37338f02",
            "3317f427db0844e39237b23044a534ef",
            "24d7589bce074088bb84a17d987a8e78",
            "7b83fc601f164b20b30f6ef500fd5b66",
            "e45c8b04171e4d68a4c569c8d8dc0655",
            "63825b2f94f04c779df0e4bf59b865a4",
            "c03c5bc308ed4d61b268188d4c56882b",
            "c12b0ad92ca54ad8a595e4923ebdbcd5",
            "ff38a4d1125c47ec845c302f87aff864",
            "c97a3a6afa86425eb7ad2c731a186fd8",
            "fb49a552312149dbb0c0abd5ad192dc9",
            "3c876509b8fe4642b59d192ab8ff1c97",
            "fafe22545e0a4d09a47c668a55948d31",
            "4db5eeda132a4188beb08917295213c8",
            "bc246ea92256406c891bdca26198b735",
            "c84b062a7b8149d98dea64d65679b3b0",
            "22622039eb234fb9b17b2677d1b81470",
            "df6b5ef7fc3a421db5deedd2188ee5dd",
            "063f1bb857a343e38ec9671b832a38ef",
            "61cc3b7c036e4397a8fff695f4bb228a",
            "c520ac287dd6489ab2f237ddedb7b5a6",
            "1713e24040cb4cc68aecb55f9b511cb1",
            "c2ef68e58ee94b21b45a06dde8697c93",
            "fcd3e9adcfbc43c590899144576061a4",
            "e88edee788054e01bcb3a70f96dd7049",
            "001a53378c2745159f1a0eeb5eebe8f9",
            "d02335f5e1574e38a0f87ee5364dd2b0",
            "a24390508e45490180587e1280ea238e",
            "901697890f124211863c2d4a0fc2b4f5",
            "63f37352a21148a486445d63b86900bd",
            "b6575ac67df54120b0d050b30853e63f",
            "f19eff381fe64484a4a15d4ae7d0a789",
            "e45d6fe730634b208aef6a7ab789bdc4",
            "1add8ca49c0f44398a60d07adc3a718d",
            "8519d72cd77d4e2ea330334689c0a8c1",
            "5c2ce0ae7221499399fc4b8418a6b0be",
            "7bd61807b62d4c39b9d6f44b1654f8d7",
            "6cd1759c12e94fb7b04acfe787565106",
            "7620e42bc3ba4c9ab6df0f4497b85fc5",
            "a0240400aa9044fa902be3393f71be6e",
            "9ae64edc3ce44718b744e33358985601",
            "c6468a52b984498197bfa80754a07cf4",
            "becb54ed59e44e5a9085bbcd5371d7c3",
            "e37f08e72666403eb31342aa82599c60"
          ]
        },
        "id": "mhK9Pmy7Pn12",
        "outputId": "51c3d268-0fc4-49f7-ddc7-3aa048bd2bc1"
      },
      "execution_count": 5,
      "outputs": [
        {
          "output_type": "display_data",
          "data": {
            "text/plain": [
              "modules.json:   0%|          | 0.00/349 [00:00<?, ?B/s]"
            ],
            "application/vnd.jupyter.widget-view+json": {
              "version_major": 2,
              "version_minor": 0,
              "model_id": "6241d4c4300046a9949afa3a0fd1d19b"
            }
          },
          "metadata": {}
        },
        {
          "output_type": "display_data",
          "data": {
            "text/plain": [
              "config_sentence_transformers.json:   0%|          | 0.00/116 [00:00<?, ?B/s]"
            ],
            "application/vnd.jupyter.widget-view+json": {
              "version_major": 2,
              "version_minor": 0,
              "model_id": "62cb60bc37f349bcb04d6d0e75b80e68"
            }
          },
          "metadata": {}
        },
        {
          "output_type": "display_data",
          "data": {
            "text/plain": [
              "README.md:   0%|          | 0.00/10.5k [00:00<?, ?B/s]"
            ],
            "application/vnd.jupyter.widget-view+json": {
              "version_major": 2,
              "version_minor": 0,
              "model_id": "cb7795ea32e9475ba182e9ac999dadbc"
            }
          },
          "metadata": {}
        },
        {
          "output_type": "display_data",
          "data": {
            "text/plain": [
              "sentence_bert_config.json:   0%|          | 0.00/53.0 [00:00<?, ?B/s]"
            ],
            "application/vnd.jupyter.widget-view+json": {
              "version_major": 2,
              "version_minor": 0,
              "model_id": "3c082b9f8502425cb7edf3e52f2c3098"
            }
          },
          "metadata": {}
        },
        {
          "output_type": "display_data",
          "data": {
            "text/plain": [
              "config.json:   0%|          | 0.00/612 [00:00<?, ?B/s]"
            ],
            "application/vnd.jupyter.widget-view+json": {
              "version_major": 2,
              "version_minor": 0,
              "model_id": "20b821b3f8cd4a22ac675e6dca0c5cc0"
            }
          },
          "metadata": {}
        },
        {
          "output_type": "stream",
          "name": "stderr",
          "text": [
            "Xet Storage is enabled for this repo, but the 'hf_xet' package is not installed. Falling back to regular HTTP download. For better performance, install the package with: `pip install huggingface_hub[hf_xet]` or `pip install hf_xet`\n",
            "WARNING:huggingface_hub.file_download:Xet Storage is enabled for this repo, but the 'hf_xet' package is not installed. Falling back to regular HTTP download. For better performance, install the package with: `pip install huggingface_hub[hf_xet]` or `pip install hf_xet`\n"
          ]
        },
        {
          "output_type": "display_data",
          "data": {
            "text/plain": [
              "model.safetensors:   0%|          | 0.00/90.9M [00:00<?, ?B/s]"
            ],
            "application/vnd.jupyter.widget-view+json": {
              "version_major": 2,
              "version_minor": 0,
              "model_id": "8eddb873c2694c168b7137e37550b2d8"
            }
          },
          "metadata": {}
        },
        {
          "output_type": "display_data",
          "data": {
            "text/plain": [
              "tokenizer_config.json:   0%|          | 0.00/350 [00:00<?, ?B/s]"
            ],
            "application/vnd.jupyter.widget-view+json": {
              "version_major": 2,
              "version_minor": 0,
              "model_id": "a35493d4b3c24a36ba795604be1e0077"
            }
          },
          "metadata": {}
        },
        {
          "output_type": "display_data",
          "data": {
            "text/plain": [
              "vocab.txt:   0%|          | 0.00/232k [00:00<?, ?B/s]"
            ],
            "application/vnd.jupyter.widget-view+json": {
              "version_major": 2,
              "version_minor": 0,
              "model_id": "b1ad7df4635a466498a2e24d7627d20b"
            }
          },
          "metadata": {}
        },
        {
          "output_type": "display_data",
          "data": {
            "text/plain": [
              "tokenizer.json:   0%|          | 0.00/466k [00:00<?, ?B/s]"
            ],
            "application/vnd.jupyter.widget-view+json": {
              "version_major": 2,
              "version_minor": 0,
              "model_id": "7a2facc0aaea49eeac31e89a660f4c9a"
            }
          },
          "metadata": {}
        },
        {
          "output_type": "display_data",
          "data": {
            "text/plain": [
              "special_tokens_map.json:   0%|          | 0.00/112 [00:00<?, ?B/s]"
            ],
            "application/vnd.jupyter.widget-view+json": {
              "version_major": 2,
              "version_minor": 0,
              "model_id": "d2462fd5843d4fda898aa87beddfa012"
            }
          },
          "metadata": {}
        },
        {
          "output_type": "display_data",
          "data": {
            "text/plain": [
              "config.json:   0%|          | 0.00/190 [00:00<?, ?B/s]"
            ],
            "application/vnd.jupyter.widget-view+json": {
              "version_major": 2,
              "version_minor": 0,
              "model_id": "026512b3f8674795bcfd24cc3f7bc07e"
            }
          },
          "metadata": {}
        },
        {
          "output_type": "display_data",
          "data": {
            "text/plain": [
              "tokenizer_config.json:   0%|          | 0.00/2.54k [00:00<?, ?B/s]"
            ],
            "application/vnd.jupyter.widget-view+json": {
              "version_major": 2,
              "version_minor": 0,
              "model_id": "0515f447c3f343a48cbc7579f9398f9d"
            }
          },
          "metadata": {}
        },
        {
          "output_type": "display_data",
          "data": {
            "text/plain": [
              "spiece.model:   0%|          | 0.00/792k [00:00<?, ?B/s]"
            ],
            "application/vnd.jupyter.widget-view+json": {
              "version_major": 2,
              "version_minor": 0,
              "model_id": "75936c168fc2441581715800cabf4395"
            }
          },
          "metadata": {}
        },
        {
          "output_type": "display_data",
          "data": {
            "text/plain": [
              "tokenizer.json:   0%|          | 0.00/2.42M [00:00<?, ?B/s]"
            ],
            "application/vnd.jupyter.widget-view+json": {
              "version_major": 2,
              "version_minor": 0,
              "model_id": "5b5a05200e6847d383e0a8a004be4f9e"
            }
          },
          "metadata": {}
        },
        {
          "output_type": "display_data",
          "data": {
            "text/plain": [
              "special_tokens_map.json:   0%|          | 0.00/2.20k [00:00<?, ?B/s]"
            ],
            "application/vnd.jupyter.widget-view+json": {
              "version_major": 2,
              "version_minor": 0,
              "model_id": "4308ce8a61b54d3cb2376b5558baa1bd"
            }
          },
          "metadata": {}
        },
        {
          "output_type": "display_data",
          "data": {
            "text/plain": [
              "config.json:   0%|          | 0.00/1.44k [00:00<?, ?B/s]"
            ],
            "application/vnd.jupyter.widget-view+json": {
              "version_major": 2,
              "version_minor": 0,
              "model_id": "0b90d51c6e05483b878dbc55c6d61d0c"
            }
          },
          "metadata": {}
        },
        {
          "output_type": "display_data",
          "data": {
            "text/plain": [
              "model.safetensors.index.json:   0%|          | 0.00/53.0k [00:00<?, ?B/s]"
            ],
            "application/vnd.jupyter.widget-view+json": {
              "version_major": 2,
              "version_minor": 0,
              "model_id": "22016522fe6b479aa0ca68c10bd71c54"
            }
          },
          "metadata": {}
        },
        {
          "output_type": "display_data",
          "data": {
            "text/plain": [
              "Fetching 2 files:   0%|          | 0/2 [00:00<?, ?it/s]"
            ],
            "application/vnd.jupyter.widget-view+json": {
              "version_major": 2,
              "version_minor": 0,
              "model_id": "856f3f40ec2249539d49e7860ef10219"
            }
          },
          "metadata": {}
        },
        {
          "output_type": "display_data",
          "data": {
            "text/plain": [
              "model-00001-of-00002.safetensors:   0%|          | 0.00/9.45G [00:00<?, ?B/s]"
            ],
            "application/vnd.jupyter.widget-view+json": {
              "version_major": 2,
              "version_minor": 0,
              "model_id": "2602e144968945d9b6ec373a37338f02"
            }
          },
          "metadata": {}
        },
        {
          "output_type": "display_data",
          "data": {
            "text/plain": [
              "model-00002-of-00002.safetensors:   0%|          | 0.00/1.95G [00:00<?, ?B/s]"
            ],
            "application/vnd.jupyter.widget-view+json": {
              "version_major": 2,
              "version_minor": 0,
              "model_id": "3c876509b8fe4642b59d192ab8ff1c97"
            }
          },
          "metadata": {}
        },
        {
          "output_type": "display_data",
          "data": {
            "text/plain": [
              "Loading checkpoint shards:   0%|          | 0/2 [00:00<?, ?it/s]"
            ],
            "application/vnd.jupyter.widget-view+json": {
              "version_major": 2,
              "version_minor": 0,
              "model_id": "c2ef68e58ee94b21b45a06dde8697c93"
            }
          },
          "metadata": {}
        },
        {
          "output_type": "display_data",
          "data": {
            "text/plain": [
              "generation_config.json:   0%|          | 0.00/147 [00:00<?, ?B/s]"
            ],
            "application/vnd.jupyter.widget-view+json": {
              "version_major": 2,
              "version_minor": 0,
              "model_id": "1add8ca49c0f44398a60d07adc3a718d"
            }
          },
          "metadata": {}
        }
      ]
    },
    {
      "cell_type": "code",
      "source": [
        "config.keys()"
      ],
      "metadata": {
        "colab": {
          "base_uri": "https://localhost:8080/"
        },
        "id": "RicPw_FkPzzp",
        "outputId": "bd3bd457-fccf-4200-8692-31780b7634c6"
      },
      "execution_count": 7,
      "outputs": [
        {
          "output_type": "execute_result",
          "data": {
            "text/plain": [
              "dict_keys(['device', 'embeddings', 'tokenizer', 'model', 'db'])"
            ]
          },
          "metadata": {},
          "execution_count": 7
        }
      ]
    },
    {
      "cell_type": "code",
      "source": [
        "update_database(config)"
      ],
      "metadata": {
        "colab": {
          "base_uri": "https://localhost:8080/"
        },
        "id": "c1sT_uQZP2zO",
        "outputId": "cc72c707-337c-42cb-a9bc-24f83c90b78c"
      },
      "execution_count": 8,
      "outputs": [
        {
          "output_type": "stream",
          "name": "stdout",
          "text": [
            "Total 345 document loaded.\n",
            "Document splits into 612.\n",
            "Number of existing documents in DB: 0\n",
            "Adding new documents: 612\n"
          ]
        }
      ]
    },
    {
      "cell_type": "code",
      "source": [
        "query_text = \"Rules for defining python variables\"\n",
        "run_rag_pipeline(query_text, config)"
      ],
      "metadata": {
        "colab": {
          "base_uri": "https://localhost:8080/",
          "height": 53
        },
        "id": "jr5IO5lVP86U",
        "outputId": "eb1b8136-2456-4473-d7a0-1be95a3fceb7"
      },
      "execution_count": 9,
      "outputs": [
        {
          "output_type": "execute_result",
          "data": {
            "text/plain": [
              "'Variable names may contain upper-case and lowercase letters (A\u2013Z, a\u2013z), digits (0\u20139), and underscores (_), but they cannot begin with a digit'"
            ],
            "application/vnd.google.colaboratory.intrinsic+json": {
              "type": "string"
            }
          },
          "metadata": {},
          "execution_count": 9
        }
      ]
    },
    {
      "cell_type": "code",
      "source": [
        "query_text = \"How much money player have at the start in monopoly\"\n",
        "run_rag_pipeline(query_text, config)"
      ],
      "metadata": {
        "colab": {
          "base_uri": "https://localhost:8080/",
          "height": 35
        },
        "id": "oY-SMLmOP_em",
        "outputId": "da6a8bb4-cf92-4a2b-a04e-513e832e9679"
      },
      "execution_count": 10,
      "outputs": [
        {
          "output_type": "execute_result",
          "data": {
            "text/plain": [
              "'$1,000'"
            ],
            "application/vnd.google.colaboratory.intrinsic+json": {
              "type": "string"
            }
          },
          "metadata": {},
          "execution_count": 10
        }
      ]
    }
  ]
}